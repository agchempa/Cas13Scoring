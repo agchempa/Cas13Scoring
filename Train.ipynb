{
 "cells": [
  {
   "cell_type": "code",
   "execution_count": 61,
   "metadata": {},
   "outputs": [],
   "source": [
    "import pandas as pd\n",
    "import numpy as np\n",
    "from sklearn.model_selection import train_test_split, KFold\n",
    "from sklearn.preprocessing import StandardScaler\n",
    "from sklearn.decomposition import PCA\n",
    "\n",
    "from features import features\n",
    "import pickle"
   ]
  },
  {
   "cell_type": "code",
   "execution_count": 62,
   "metadata": {},
   "outputs": [],
   "source": [
    "train = pd.read_csv(\"Cas13designGuidePredictorInput.csv\")\n",
    "train = train[['normCS', 'MFE','DR','Gquad','Log10_Unpaired','hybMFE_3.12','hybMFE_15.9' ,\n",
    "             'NTdens_max_A','NTdens_max_C','NTdens_max_G','NTdens_max_T','NTdens_max_AT' , 'NTdens_max_GC',\n",
    "             'NTdens_min_A' ,  'NTdens_min_C' ,  'NTdens_min_G' ,  'NTdens_min_T' , 'NTdens_min_AT' ,\n",
    "             'pA','pC','pG',\n",
    "             'pAA','pAC','pAG','pAT','pCA','pCC','pCG','pCT','pGA','pGC','pGG','pGT','pTA','pTC','pTG']]\n",
    "train = train[features]\n",
    "train = train.dropna()\n",
    "\n",
    "# train.to_csv(\"train.csv\", index=False)\n",
    "# train.head()"
   ]
  },
  {
   "cell_type": "code",
   "execution_count": 63,
   "metadata": {},
   "outputs": [],
   "source": [
    "train_np = train.to_numpy()\n",
    "X, y = train_np[:, 1:], train_np[:, 0]\n",
    "\n",
    "scaler = StandardScaler()\n",
    "# pca = PCA(n_components=25)\n",
    "\n",
    "# y = scaler.fit_transform(y.reshape(-1, 1))\n",
    "# y = y.flatten()\n",
    "\n",
    "X = scaler.fit_transform(X)\n",
    "# X = pca.fit_transform(X)\n",
    "\n",
    "# from matplotlib import pyplot as plt\n",
    "# dat = [sum(pca.explained_variance_ratio_[:i + 1]) for i in range(len(pca.explained_variance_ratio_))]\n",
    "# plt.plot(dat)\n",
    "\n",
    "pickle.dump(scaler, open(\"models/scaler.pkl\",\"wb\"))\n",
    "# pickle.dump(pca, open(\"models/pca.pkl\",\"wb\"))\n",
    "\n",
    "X_train, X_test, y_train, y_test = train_test_split(X, y, test_size=0.33, random_state=42);"
   ]
  },
  {
   "cell_type": "code",
   "execution_count": 64,
   "metadata": {},
   "outputs": [],
   "source": [
    "from sklearn import svm\n",
    "from sklearn import linear_model\n",
    "from sklearn import neural_network\n",
    "from sklearn import ensemble\n",
    "from sklearn.metrics import mean_squared_error, mean_absolute_error, r2_score\n",
    "import xgboost as xgb"
   ]
  },
  {
   "cell_type": "code",
   "execution_count": 65,
   "metadata": {},
   "outputs": [],
   "source": [
    "models = {\n",
    "    \"Support vector machine\": svm.SVR(),\n",
    "#     \"Multilayer perceptron\": neural_network.MLPRegressor(max_iter=1000),\n",
    "    \"Random forest\": ensemble.RandomForestRegressor(),\n",
    "#     \"Adaboost\": ensemble.AdaBoostRegressor(),\n",
    "#     \"Gradient boosted trees\": ensemble.GradientBoostingRegressor(),\n",
    "#     \"XGBoost\": xgb.sklearn.XGBModel(),\n",
    "}"
   ]
  },
  {
   "cell_type": "code",
   "execution_count": 66,
   "metadata": {},
   "outputs": [
    {
     "name": "stdout",
     "output_type": "stream",
     "text": [
      "Name: Support vector machine, MSE: 0.17276622302323713, MAE: 0.3127808678679317, R-score: 0.45741420406403216\n",
      "Name: Multilayer perceptron, MSE: 0.2128444276436367, MAE: 0.35735444494013086, R-score: 0.32996392605923563\n",
      "Name: Random forest, MSE: 0.17760038514355994, MAE: 0.32052004675381046, R-score: 0.4415933985514501\n",
      "Name: Adaboost, MSE: 0.23309791190988172, MAE: 0.38947059413802887, R-score: 0.26663188844087193\n",
      "Name: Gradient boosted trees, MSE: 0.18918075385724692, MAE: 0.33345907720310614, R-score: 0.40522199408019166\n",
      "Name: XGBoost, MSE: 0.18412542126642645, MAE: 0.327624744157006, R-score: 0.42117278578030126\n"
     ]
    }
   ],
   "source": [
    "results = {}\n",
    "for model_name, model in models.items():\n",
    "    kf = KFold(n_splits=10, shuffle=True, random_state=42)\n",
    "    \n",
    "    metrics = {metric: [] for metric in [\"mse\", \"mae\", \"rscore\"]}\n",
    "    \n",
    "    for train_index, test_index in kf.split(X):\n",
    "        X_train, X_test = X[train_index], X[test_index]\n",
    "        y_train, y_test = y[train_index], y[test_index]\n",
    "    \n",
    "        model.fit(X_train, y_train)\n",
    "        y_pred_test = model.predict(X_test)\n",
    "\n",
    "        metrics[\"mse\"].append(mean_squared_error(y_test, y_pred_test))\n",
    "        metrics[\"mae\"].append(mean_absolute_error(y_test, y_pred_test))\n",
    "        metrics[\"rscore\"].append(r2_score(y_test, y_pred_test))\n",
    "        \n",
    "    mse = np.mean(np.array(metrics[\"mse\"]))\n",
    "    mae = np.mean(np.array(metrics[\"mae\"]))\n",
    "    rscore = np.mean(np.array(metrics[\"rscore\"]))\n",
    "    \n",
    "    print(f\"Name: {model_name}, MSE: {mse}, MAE: {mae}, R-score: {rscore}\")\n",
    "    \n",
    "    metrics[\"mse\"] = np.mean(np.array(metrics[\"mse\"]))\n",
    "    metrics[\"mae\"] = np.mean(np.array(metrics[\"mae\"]))\n",
    "    metrics[\"rscore\"] = np.mean(np.array(metrics[\"rscore\"]))\n",
    "    \n",
    "    results[model_name] = metrics"
   ]
  },
  {
   "cell_type": "code",
   "execution_count": 67,
   "metadata": {},
   "outputs": [],
   "source": [
    "%matplotlib inline\n",
    "from matplotlib import pyplot as plt"
   ]
  },
  {
   "cell_type": "code",
   "execution_count": 68,
   "metadata": {},
   "outputs": [],
   "source": [
    "# with open(\"resultsdump.tsv\", 'w+') as wopen:\n",
    "#     for model in results.keys():\n",
    "#         for metric in [\"mse\", \"mae\", \"rscore\"]:\n",
    "#             for value in results[model][metric]:\n",
    "#                 wopen.write(f\"{model}\\t{metric}\\t{value}\\n\")"
   ]
  },
  {
   "cell_type": "code",
   "execution_count": 69,
   "metadata": {},
   "outputs": [
    {
     "data": {
      "image/png": "[encoded data removed]",
      "text/plain": [
       "<Figure size 432x288 with 1 Axes>"
      ]
     },
     "metadata": {
      "needs_background": "light"
     },
     "output_type": "display_data"
    },
    {
     "data": {
      "image/png": "[encoded data removed]",
      "text/plain": [
       "<Figure size 432x288 with 1 Axes>"
      ]
     },
     "metadata": {
      "needs_background": "light"
     },
     "output_type": "display_data"
    },
    {
     "data": {
      "image/png": "[encoded data removed]",
      "text/plain": [
       "<Figure size 432x288 with 1 Axes>"
      ]
     },
     "metadata": {
      "needs_background": "light"
     },
     "output_type": "display_data"
    }
   ],
   "source": [
    "mymodels = list(results.keys())\n",
    "for metric in [\"mse\", \"mae\", \"rscore\"]:\n",
    "    values = [results[model][metric] for model in mymodels]\n",
    "    plt.figure()\n",
    "    plt.barh(mymodels, values)\n",
    "    plt.title(f\"Metric: {metric}\")\n",
    "#     plt.savefig(f\"models/{metric}.png\",bbox_inches='tight')\n",
    "    plt.show()\n",
    "    "
   ]
  },
  {
   "cell_type": "code",
   "execution_count": 70,
   "metadata": {},
   "outputs": [],
   "source": [
    "model = svm.SVR().fit(X, y)\n",
    "pickle.dump(model, open(\"models/svm.pkl\",\"wb\"))"
   ]
  },
  {
   "cell_type": "code",
   "execution_count": 71,
   "metadata": {},
   "outputs": [],
   "source": [
    "pickle.dump(results, open(\"models/results.pkl\",\"wb\"))"
   ]
  },
  {
   "cell_type": "code",
   "execution_count": 72,
   "metadata": {},
   "outputs": [],
   "source": [
    "# for model_name, model in models.items():\n",
    "#     model.fit(X_train, y_train)\n",
    "#     y_pred_test = model.predict(X_test)\n",
    "    \n",
    "#     mse = mean_squared_error(y_test, y_pred_test)\n",
    "#     mae = mean_absolute_error(y_test, y_pred_test)\n",
    "#     rscore = r2_score(y_test, y_pred_test)\n",
    "    \n",
    "#     print(f\"Name: {model_name}, MSE: {mse}, MAE: {mae}, R-score: {rscore}\")"
   ]
  }
 ],
 "metadata": {
  "kernelspec": {
   "display_name": "Python 3",
   "language": "python",
   "name": "python3"
  },
  "language_info": {
   "codemirror_mode": {
    "name": "ipython",
    "version": 3
   },
   "file_extension": ".py",
   "mimetype": "text/x-python",
   "name": "python",
   "nbconvert_exporter": "python",
   "pygments_lexer": "ipython3",
   "version": "3.7.7"
  }
 },
 "nbformat": 4,
 "nbformat_minor": 4
}

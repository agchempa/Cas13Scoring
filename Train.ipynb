{
 "cells": [
  {
   "cell_type": "code",
   "execution_count": 48,
   "metadata": {},
   "outputs": [],
   "source": [
    "import pandas as pd\n",
    "import numpy as np\n",
    "from sklearn.model_selection import train_test_split, KFold\n",
    "from sklearn.preprocessing import StandardScaler\n",
    "from sklearn.decomposition import PCA\n",
    "import pickle"
   ]
  },
  {
   "cell_type": "code",
   "execution_count": 49,
   "metadata": {},
   "outputs": [],
   "source": [
    "train = pd.read_csv(\"Cas13designGuidePredictorInput.csv\")\n",
    "# 35 features\n",
    "train = train[['normCS', 'MFE','DR','Gquad','Log10_Unpaired','hybMFE_3.12','hybMFE_15.9' ,\n",
    "             'NTdens_max_A','NTdens_max_C','NTdens_max_G','NTdens_max_T','NTdens_max_AT' , 'NTdens_max_GC',\n",
    "             'NTdens_min_A' ,  'NTdens_min_C' ,  'NTdens_min_G' ,  'NTdens_min_T' , 'NTdens_min_AT' ,\n",
    "             'pA','pC','pG',\n",
    "             'pAA','pAC','pAG','pAT','pCA','pCC','pCG','pCT','pGA','pGC','pGG','pGT','pTA','pTC','pTG']]\n",
    "train = train[['normCS', 'MFE','DR','Gquad','hybMFE_3.12','hybMFE_15.9' ,\n",
    "             'NTdens_max_A','NTdens_max_C','NTdens_max_G','NTdens_max_T','NTdens_max_AT' , 'NTdens_max_GC',\n",
    "             'NTdens_min_A' ,  'NTdens_min_G' ,  'NTdens_min_T' , 'NTdens_min_AT' ,\n",
    "             'pA','pC','pG',\n",
    "             'pAA','pAC','pAG','pAT','pCA','pCC','pCG','pCT','pGA','pGC','pGG','pGT','pTA','pTC','pTG']]\n",
    "train = train.dropna()\n",
    "\n",
    "# train.to_csv(\"train.csv\", index=False)\n",
    "# train.head()"
   ]
  },
  {
   "cell_type": "code",
   "execution_count": 50,
   "metadata": {},
   "outputs": [],
   "source": [
    "train_np = train.to_numpy()\n",
    "X, y = train_np[:, 1:], train_np[:, 0]\n",
    "\n",
    "scaler = StandardScaler()\n",
    "pca = PCA(n_components=25)\n",
    "\n",
    "# y = scaler.fit_transform(y.reshape(-1, 1))\n",
    "# y = y.flatten()\n",
    "\n",
    "X = scaler.fit_transform(X)\n",
    "# X = pca.fit_transform(X)\n",
    "\n",
    "# from matplotlib import pyplot as plt\n",
    "# dat = [sum(pca.explained_variance_ratio_[:i + 1]) for i in range(len(pca.explained_variance_ratio_))]\n",
    "# plt.plot(dat)\n",
    "\n",
    "pickle.dump(scaler, open(\"models/scaler.pkl\",\"wb\"))\n",
    "pickle.dump(pca, open(\"models/pca.pkl\",\"wb\"))\n",
    "\n",
    "X_train, X_test, y_train, y_test = train_test_split(X, y, test_size=0.33, random_state=42);"
   ]
  },
  {
   "cell_type": "code",
   "execution_count": 51,
   "metadata": {},
   "outputs": [],
   "source": [
    "from sklearn import svm\n",
    "from sklearn import linear_model\n",
    "from sklearn import neural_network\n",
    "from sklearn import ensemble\n",
    "from sklearn.metrics import mean_squared_error, mean_absolute_error, r2_score\n",
    "import xgboost as xgb"
   ]
  },
  {
   "cell_type": "code",
   "execution_count": 52,
   "metadata": {},
   "outputs": [],
   "source": [
    "models = {\n",
    "    \"Support vector machine\": svm.SVR(),\n",
    "    \"Multilayer perceptron\": neural_network.MLPRegressor(max_iter=1000),\n",
    "    \"Random forest\": ensemble.RandomForestRegressor(),\n",
    "    \"Adaboost\": ensemble.AdaBoostRegressor(),\n",
    "    \"Gradient boosted trees\": ensemble.GradientBoostingRegressor(),\n",
    "    \"XGBoost\": xgb.sklearn.XGBModel(),\n",
    "}"
   ]
  },
  {
   "cell_type": "code",
   "execution_count": 53,
   "metadata": {},
   "outputs": [
    {
     "name": "stdout",
     "output_type": "stream",
     "text": [
      "Name: Support vector machine, MSE: 0.171610054490106, MAE: 0.3118566698820812, R-score: 0.4611476022786401\n",
      "Name: Multilayer perceptron, MSE: 0.21949345973404366, MAE: 0.3595154671122745, R-score: 0.3074620290750488\n",
      "Name: Random forest, MSE: 0.17791673847810024, MAE: 0.32116094164177234, R-score: 0.440559603507209\n",
      "Name: Adaboost, MSE: 0.2342957230020979, MAE: 0.3912744261309896, R-score: 0.2627841011391066\n",
      "Name: Gradient boosted trees, MSE: 0.18981299162207363, MAE: 0.33427309672645766, R-score: 0.4029248989542876\n",
      "Name: XGBoost, MSE: 0.18208099562789334, MAE: 0.3228636645124787, R-score: 0.4276092383058108\n"
     ]
    }
   ],
   "source": [
    "# results = {}\n",
    "# for model_name, model in models.items():\n",
    "#     kf = KFold(n_splits=10, shuffle=True, random_state=42)\n",
    "    \n",
    "#     metrics = {metric: [] for metric in [\"mse\", \"mae\", \"rscore\"]}\n",
    "    \n",
    "#     for train_index, test_index in kf.split(X):\n",
    "#         X_train, X_test = X[train_index], X[test_index]\n",
    "#         y_train, y_test = y[train_index], y[test_index]\n",
    "    \n",
    "#         model.fit(X_train, y_train)\n",
    "#         y_pred_test = model.predict(X_test)\n",
    "\n",
    "#         metrics[\"mse\"].append(mean_squared_error(y_test, y_pred_test))\n",
    "#         metrics[\"mae\"].append(mean_absolute_error(y_test, y_pred_test))\n",
    "#         metrics[\"rscore\"].append(r2_score(y_test, y_pred_test))\n",
    "        \n",
    "#     mse = np.mean(np.array(metrics[\"mse\"]))\n",
    "#     mae = np.mean(np.array(metrics[\"mae\"]))\n",
    "#     rscore = np.mean(np.array(metrics[\"rscore\"]))\n",
    "    \n",
    "#     print(f\"Name: {model_name}, MSE: {mse}, MAE: {mae}, R-score: {rscore}\")\n",
    "    \n",
    "#     metrics[\"mse\"] = np.mean(np.array(metrics[\"mse\"]))\n",
    "#     metrics[\"mae\"] = np.mean(np.array(metrics[\"mae\"]))\n",
    "#     metrics[\"rscore\"] = np.mean(np.array(metrics[\"rscore\"]))\n",
    "    \n",
    "#     results[model_name] = metrics"
   ]
  },
  {
   "cell_type": "code",
   "execution_count": 54,
   "metadata": {},
   "outputs": [],
   "source": [
    "%matplotlib inline\n",
    "from matplotlib import pyplot as plt"
   ]
  },
  {
   "cell_type": "code",
   "execution_count": 55,
   "metadata": {},
   "outputs": [],
   "source": [
    "# with open(\"resultsdump.tsv\", 'w+') as wopen:\n",
    "#     for model in results.keys():\n",
    "#         for metric in [\"mse\", \"mae\", \"rscore\"]:\n",
    "#             for value in results[model][metric]:\n",
    "#                 wopen.write(f\"{model}\\t{metric}\\t{value}\\n\")"
   ]
  },
  {
   "cell_type": "code",
   "execution_count": 56,
   "metadata": {},
   "outputs": [
    {
     "data": {
      "image/png": "[encoded data removed]",
      "text/plain": [
       "<Figure size 432x288 with 1 Axes>"
      ]
     },
     "metadata": {
      "needs_background": "light"
     },
     "output_type": "display_data"
    },
    {
     "data": {
      "image/png": "[encoded data removed]",
      "text/plain": [
       "<Figure size 432x288 with 1 Axes>"
      ]
     },
     "metadata": {
      "needs_background": "light"
     },
     "output_type": "display_data"
    },
    {
     "data": {
      "image/png": "[encoded data removed]",
      "text/plain": [
       "<Figure size 432x288 with 1 Axes>"
      ]
     },
     "metadata": {
      "needs_background": "light"
     },
     "output_type": "display_data"
    }
   ],
   "source": [
    "mymodels = list(results.keys())\n",
    "for metric in [\"mse\", \"mae\", \"rscore\"]:\n",
    "    values = [results[model][metric] for model in mymodels]\n",
    "    plt.figure()\n",
    "    plt.barh(mymodels, values)\n",
    "#     plt.xticks(rotation='vertical')\n",
    "    plt.title(f\"Metric: {metric}\")\n",
    "#     plt.gca().set_position([.5, -.5, 1, 1])\n",
    "    plt.savefig(f\"models/{metric}.png\",bbox_inches='tight')\n",
    "    plt.show()\n",
    "    "
   ]
  },
  {
   "cell_type": "code",
   "execution_count": 57,
   "metadata": {},
   "outputs": [],
   "source": [
    "model = svm.SVR().fit(X, y)\n",
    "pickle.dump(model, open(\"models/svm.pkl\",\"wb\"))"
   ]
  },
  {
   "cell_type": "code",
   "execution_count": 58,
   "metadata": {},
   "outputs": [],
   "source": [
    "pickle.dump(results, open(\"models/results.pkl\",\"wb\"))"
   ]
  },
  {
   "cell_type": "code",
   "execution_count": 59,
   "metadata": {},
   "outputs": [],
   "source": [
    "# for model_name, model in models.items():\n",
    "#     model.fit(X_train, y_train)\n",
    "#     y_pred_test = model.predict(X_test)\n",
    "    \n",
    "#     mse = mean_squared_error(y_test, y_pred_test)\n",
    "#     mae = mean_absolute_error(y_test, y_pred_test)\n",
    "#     rscore = r2_score(y_test, y_pred_test)\n",
    "    \n",
    "#     print(f\"Name: {model_name}, MSE: {mse}, MAE: {mae}, R-score: {rscore}\")"
   ]
  },
  {
   "cell_type": "code",
   "execution_count": 60,
   "metadata": {},
   "outputs": [
    {
     "data": {
      "text/plain": [
       "'\\nThe original training code from Wessels et al.\\n\\nHans-Hermann Wessels, Alejandro Méndez-Mancilla, Xinyi Guo, Mateusz Legut, Zharko Daniloski, Neville E. Sanjana. \\nMassively parallel Cas13 screens reveal principles for guide RNA design. Nature Biotechnology (2020). doi:10.1038/s41587-020-0456-9\\nhttps://www.nature.com/articles/s41587-020-0456-9\\n'"
      ]
     },
     "execution_count": 60,
     "metadata": {},
     "output_type": "execute_result"
    }
   ],
   "source": [
    "\"\"\"\n",
    "The original training code from Wessels et al.\n",
    "\n",
    "Hans-Hermann Wessels, Alejandro Méndez-Mancilla, Xinyi Guo, Mateusz Legut, Zharko Daniloski, Neville E. Sanjana. \n",
    "Massively parallel Cas13 screens reveal principles for guide RNA design. Nature Biotechnology (2020). doi:10.1038/s41587-020-0456-9\n",
    "https://www.nature.com/articles/s41587-020-0456-9\n",
    "\"\"\"\n",
    "\n",
    "\n",
    "# # The effect size value is normCS\n",
    "\n",
    "# # remove incomplete entries\n",
    "# x = x[complete.cases(x),FIELDS]\n",
    "\n",
    "# # scale numeric values for training\n",
    "# numeric = sapply(x, is.numeric) & colnames(x) != \"normCS\"  & colnames(x) != \"Gquad\"  & colnames(x) != \"DR\" & grepl(\"[A,C,G,T]_\",colnames(x)) == FALSE #DO NOT SCALE response value to [0,1] interval\n",
    "\n",
    "# tmpmean = apply(x[,numeric], 2, function(x) quantile(x, 0.05))\n",
    "# tmpsd = apply(x[,numeric], 2, function(x) quantile(x, 0.95)-quantile(x, 0.05)) \n",
    "# x[,numeric] = scale(x[,numeric], center=tmpmean, scale=tmpsd) \n",
    "# x[,numeric][x[,numeric] > 1] = 1\n",
    "# x[,numeric][x[,numeric] < 0] = 0\n",
    "\n",
    "# # sed seed for reproducibility\n",
    "# set.seed(1234)\n",
    "# #generate model  \n",
    "# model = randomForest(x[,-1], x[,1], importance = FALSE, ntree = 2000)\n",
    "\n",
    "# L = list(model, tmpmean, tmpsd)\n",
    "# names(L) = c(\"model\", \"tmpmean\", \"tmpsd\")\n",
    "# return(L)\n",
    "\n",
    "\n",
    "\n",
    "# # Generate Model based on original on-target screens. \n",
    "# cat( paste0( \"Generate model started on \" , date() ,\"\\n\"))\n",
    "# out = PrePareModelInput(x=fullset, FIELDS=fields)\n",
    "# Model = out[[1]]\n",
    "# # Get feature Means and SD for scaling\n",
    "# ModelInputMeans = out[[2]]\n",
    "# ModelInputSDs = out[[3]]"
   ]
  },
  {
   "cell_type": "code",
   "execution_count": null,
   "metadata": {},
   "outputs": [],
   "source": []
  },
  {
   "cell_type": "code",
   "execution_count": null,
   "metadata": {},
   "outputs": [],
   "source": []
  }
 ],
 "metadata": {
  "kernelspec": {
   "display_name": "Python 3",
   "language": "python",
   "name": "python3"
  },
  "language_info": {
   "codemirror_mode": {
    "name": "ipython",
    "version": 3
   },
   "file_extension": ".py",
   "mimetype": "text/x-python",
   "name": "python",
   "nbconvert_exporter": "python",
   "pygments_lexer": "ipython3",
   "version": "3.7.7"
  }
 },
 "nbformat": 4,
 "nbformat_minor": 4
}
